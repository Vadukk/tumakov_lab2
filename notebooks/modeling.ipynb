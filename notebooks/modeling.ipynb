{
 "cells": [
  {
   "cell_type": "code",
   "execution_count": 42,
   "id": "98d5870f",
   "metadata": {
    "ExecuteTime": {
     "end_time": "2022-10-23T12:55:22.525637Z",
     "start_time": "2022-10-23T12:55:22.510796Z"
    }
   },
   "outputs": [],
   "source": [
    "import pandas as pd\n",
    "import numpy as np\n",
    "import seaborn as sns\n",
    "import matplotlib.pyplot as plt\n",
    "import os\n",
    "from tqdm import tqdm_notebook\n",
    "\n",
    "from sklearn.preprocessing import LabelEncoder\n",
    "from sklearn.ensemble import RandomForestRegressor\n",
    "from sklearn.linear_model import LinearRegression\n",
    "from sklearn.model_selection import train_test_split, GridSearchCV\n",
    "from sklearn.metrics import mean_absolute_error, mean_absolute_percentage_error\n",
    "\n",
    "from catboost import CatBoostRegressor"
   ]
  },
  {
   "cell_type": "markdown",
   "id": "d2c423be",
   "metadata": {},
   "source": [
    "# Data"
   ]
  },
  {
   "cell_type": "code",
   "execution_count": 2,
   "id": "7f341817",
   "metadata": {
    "ExecuteTime": {
     "end_time": "2022-10-23T11:49:13.792174Z",
     "start_time": "2022-10-23T11:49:13.757002Z"
    }
   },
   "outputs": [],
   "source": [
    "df = pd.read_csv('../data/processed/train.csv')"
   ]
  },
  {
   "cell_type": "code",
   "execution_count": 3,
   "id": "1be06a0c",
   "metadata": {
    "ExecuteTime": {
     "end_time": "2022-10-23T11:49:18.837008Z",
     "start_time": "2022-10-23T11:49:18.803137Z"
    }
   },
   "outputs": [
    {
     "data": {
      "text/html": [
       "<div>\n",
       "<style scoped>\n",
       "    .dataframe tbody tr th:only-of-type {\n",
       "        vertical-align: middle;\n",
       "    }\n",
       "\n",
       "    .dataframe tbody tr th {\n",
       "        vertical-align: top;\n",
       "    }\n",
       "\n",
       "    .dataframe thead th {\n",
       "        text-align: right;\n",
       "    }\n",
       "</style>\n",
       "<table border=\"1\" class=\"dataframe\">\n",
       "  <thead>\n",
       "    <tr style=\"text-align: right;\">\n",
       "      <th></th>\n",
       "      <th>MSSubClass</th>\n",
       "      <th>MSZoning</th>\n",
       "      <th>LotFrontage</th>\n",
       "      <th>LotArea</th>\n",
       "      <th>Street</th>\n",
       "      <th>Alley</th>\n",
       "      <th>LotShape</th>\n",
       "      <th>LandContour</th>\n",
       "      <th>Utilities</th>\n",
       "      <th>LotConfig</th>\n",
       "      <th>...</th>\n",
       "      <th>PoolArea</th>\n",
       "      <th>PoolQC</th>\n",
       "      <th>Fence</th>\n",
       "      <th>MiscFeature</th>\n",
       "      <th>MiscVal</th>\n",
       "      <th>MoSold</th>\n",
       "      <th>YrSold</th>\n",
       "      <th>SaleType</th>\n",
       "      <th>SaleCondition</th>\n",
       "      <th>SalePrice</th>\n",
       "    </tr>\n",
       "  </thead>\n",
       "  <tbody>\n",
       "    <tr>\n",
       "      <th>415</th>\n",
       "      <td>20</td>\n",
       "      <td>3</td>\n",
       "      <td>73.0</td>\n",
       "      <td>8899</td>\n",
       "      <td>1</td>\n",
       "      <td>1</td>\n",
       "      <td>0</td>\n",
       "      <td>3</td>\n",
       "      <td>0</td>\n",
       "      <td>4</td>\n",
       "      <td>...</td>\n",
       "      <td>0</td>\n",
       "      <td>3</td>\n",
       "      <td>4</td>\n",
       "      <td>1</td>\n",
       "      <td>0</td>\n",
       "      <td>8</td>\n",
       "      <td>2007</td>\n",
       "      <td>6</td>\n",
       "      <td>5</td>\n",
       "      <td>181134</td>\n",
       "    </tr>\n",
       "    <tr>\n",
       "      <th>1370</th>\n",
       "      <td>50</td>\n",
       "      <td>3</td>\n",
       "      <td>90.0</td>\n",
       "      <td>5400</td>\n",
       "      <td>1</td>\n",
       "      <td>1</td>\n",
       "      <td>3</td>\n",
       "      <td>3</td>\n",
       "      <td>0</td>\n",
       "      <td>0</td>\n",
       "      <td>...</td>\n",
       "      <td>0</td>\n",
       "      <td>3</td>\n",
       "      <td>4</td>\n",
       "      <td>1</td>\n",
       "      <td>0</td>\n",
       "      <td>10</td>\n",
       "      <td>2009</td>\n",
       "      <td>8</td>\n",
       "      <td>4</td>\n",
       "      <td>105000</td>\n",
       "    </tr>\n",
       "    <tr>\n",
       "      <th>473</th>\n",
       "      <td>20</td>\n",
       "      <td>3</td>\n",
       "      <td>110.0</td>\n",
       "      <td>14977</td>\n",
       "      <td>1</td>\n",
       "      <td>1</td>\n",
       "      <td>0</td>\n",
       "      <td>3</td>\n",
       "      <td>0</td>\n",
       "      <td>4</td>\n",
       "      <td>...</td>\n",
       "      <td>0</td>\n",
       "      <td>3</td>\n",
       "      <td>4</td>\n",
       "      <td>1</td>\n",
       "      <td>0</td>\n",
       "      <td>7</td>\n",
       "      <td>2007</td>\n",
       "      <td>6</td>\n",
       "      <td>5</td>\n",
       "      <td>440000</td>\n",
       "    </tr>\n",
       "  </tbody>\n",
       "</table>\n",
       "<p>3 rows × 80 columns</p>\n",
       "</div>"
      ],
      "text/plain": [
       "      MSSubClass  MSZoning  LotFrontage  LotArea  Street  Alley  LotShape  \\\n",
       "415           20         3         73.0     8899       1      1         0   \n",
       "1370          50         3         90.0     5400       1      1         3   \n",
       "473           20         3        110.0    14977       1      1         0   \n",
       "\n",
       "      LandContour  Utilities  LotConfig  ...  PoolArea  PoolQC  Fence  \\\n",
       "415             3          0          4  ...         0       3      4   \n",
       "1370            3          0          0  ...         0       3      4   \n",
       "473             3          0          4  ...         0       3      4   \n",
       "\n",
       "      MiscFeature  MiscVal  MoSold  YrSold  SaleType  SaleCondition  SalePrice  \n",
       "415             1        0       8    2007         6              5     181134  \n",
       "1370            1        0      10    2009         8              4     105000  \n",
       "473             1        0       7    2007         6              5     440000  \n",
       "\n",
       "[3 rows x 80 columns]"
      ]
     },
     "execution_count": 3,
     "metadata": {},
     "output_type": "execute_result"
    }
   ],
   "source": [
    "df.sample(3)"
   ]
  },
  {
   "cell_type": "markdown",
   "id": "5810193e",
   "metadata": {},
   "source": [
    "# Метрика\n",
    "\n",
    "Мы хотим предсказать цену на недвижемость. Я считаю, что наиболее обоснованной метрикой качества нашей модели будет MAE, тк она легко интерпретируема заказчику - \"На сколько в среднем в абсолютном значении ошибается наша модель\"."
   ]
  },
  {
   "cell_type": "markdown",
   "id": "2082bb63",
   "metadata": {},
   "source": [
    "# Baseline\n",
    "\n",
    "Найдем baseline предсказаний различных дефолтных моделей, чтоб понять, что наша финальная модель будет лучше"
   ]
  },
  {
   "cell_type": "code",
   "execution_count": 8,
   "id": "c910d9ae",
   "metadata": {
    "ExecuteTime": {
     "end_time": "2022-10-23T12:08:23.430555Z",
     "start_time": "2022-10-23T12:07:21.126890Z"
    }
   },
   "outputs": [
    {
     "name": "stderr",
     "output_type": "stream",
     "text": [
      "/var/folders/gn/cj63fpv17w57ct5ns9hnv7n00000gn/T/ipykernel_43977/360962658.py:5: TqdmDeprecationWarning: This function will be removed in tqdm==5.0.0\n",
      "Please use `tqdm.notebook.tqdm` instead of `tqdm.tqdm_notebook`\n",
      "  for i in tqdm_notebook(range(25)):\n"
     ]
    },
    {
     "data": {
      "application/vnd.jupyter.widget-view+json": {
       "model_id": "554cea142007466bbdd7419bdbd10f33",
       "version_major": 2,
       "version_minor": 0
      },
      "text/plain": [
       "  0%|          | 0/25 [00:00<?, ?it/s]"
      ]
     },
     "metadata": {},
     "output_type": "display_data"
    }
   ],
   "source": [
    "scores_all_lr = []\n",
    "scores_all_rf = []\n",
    "scores_all_cb = []\n",
    "\n",
    "for i in tqdm_notebook(range(25)):\n",
    "    df_train, df_test = train_test_split(df, \n",
    "                                         test_size=0.3, \n",
    "                                         shuffle=True)\n",
    "\n",
    "    lr = LinearRegression()\n",
    "    rf = RandomForestRegressor()\n",
    "    cb = CatBoostRegressor(verbose=False)\n",
    "\n",
    "    lr.fit(df_train.drop(columns='SalePrice'), df_train['SalePrice'])\n",
    "    rf.fit(df_train.drop(columns='SalePrice'), df_train['SalePrice'])\n",
    "    cb.fit(df_train.drop(columns='SalePrice'), df_train['SalePrice'])\n",
    "\n",
    "    y_pred_lr = lr.predict(df_test.drop(columns='SalePrice'))\n",
    "    y_pred_rf = rf.predict(df_test.drop(columns='SalePrice'))\n",
    "    y_pred_cb = cb.predict(df_test.drop(columns='SalePrice'))\n",
    "\n",
    "    score_lr = mean_absolute_error(df_test['SalePrice'], y_pred_lr)\n",
    "    score_rf = mean_absolute_error(df_test['SalePrice'], y_pred_rf)\n",
    "    score_cb = mean_absolute_error(df_test['SalePrice'], y_pred_cb)\n",
    "\n",
    "    scores_all_lr.append(score_lr)\n",
    "    scores_all_rf.append(score_rf)\n",
    "    scores_all_cb.append(score_cb)\n"
   ]
  },
  {
   "cell_type": "code",
   "execution_count": 28,
   "id": "4d0b3373",
   "metadata": {
    "ExecuteTime": {
     "end_time": "2022-10-23T12:18:09.243019Z",
     "start_time": "2022-10-23T12:18:09.146158Z"
    },
    "scrolled": false
   },
   "outputs": [
    {
     "name": "stdout",
     "output_type": "stream",
     "text": [
      "LinearRegression mean score - 21824\n",
      "RandomForestRegressor mean score - 17873\n",
      "CatBoostRegressor mean score - 15131\n"
     ]
    },
    {
     "data": {
      "image/png": "[encoded data removed]",
      "text/plain": [
       "<Figure size 864x360 with 1 Axes>"
      ]
     },
     "metadata": {
      "needs_background": "light"
     },
     "output_type": "display_data"
    }
   ],
   "source": [
    "scores = [scores_all_lr, scores_all_rf, scores_all_cb]\n",
    "\n",
    "print(f'LinearRegression mean score - {round(np.mean(scores_all_lr))}')\n",
    "print(f'RandomForestRegressor mean score - {round(np.mean(scores_all_rf))}')\n",
    "print(f'CatBoostRegressor mean score - {round(np.mean(scores_all_cb))}')\n",
    "\n",
    "plt.figure(figsize=(12,5))\n",
    "\n",
    "plt.boxplot(scores, \n",
    "            positions=range(len(scores)),\n",
    "            labels = ['LinReg', 'RandFor', 'CatBoost'])\n",
    "\n",
    "plt.grid()\n",
    "plt.show()"
   ]
  },
  {
   "cell_type": "markdown",
   "id": "413dc8d3",
   "metadata": {},
   "source": [
    "Весьма неплохо. Мы CatBoost ошибается всего на 15131, что составляет отклонение в примерно 8%."
   ]
  },
  {
   "cell_type": "code",
   "execution_count": null,
   "id": "4a41c2b3",
   "metadata": {},
   "outputs": [],
   "source": []
  },
  {
   "cell_type": "markdown",
   "id": "daf6377c",
   "metadata": {},
   "source": [
    "# Feature selection"
   ]
  },
  {
   "cell_type": "markdown",
   "id": "96292823",
   "metadata": {},
   "source": [
    "Отберем фичи с помощью случайного леса"
   ]
  },
  {
   "cell_type": "code",
   "execution_count": 34,
   "id": "de5f8688",
   "metadata": {
    "ExecuteTime": {
     "end_time": "2022-10-23T12:29:32.841718Z",
     "start_time": "2022-10-23T12:29:32.828190Z"
    }
   },
   "outputs": [],
   "source": [
    "X_cols = df.drop(columns='SalePrice').columns\n",
    "target = 'SalePrice'"
   ]
  },
  {
   "cell_type": "code",
   "execution_count": 38,
   "id": "432db642",
   "metadata": {
    "ExecuteTime": {
     "end_time": "2022-10-23T12:33:14.679040Z",
     "start_time": "2022-10-23T12:31:37.465577Z"
    },
    "scrolled": true
   },
   "outputs": [
    {
     "name": "stderr",
     "output_type": "stream",
     "text": [
      "/var/folders/gn/cj63fpv17w57ct5ns9hnv7n00000gn/T/ipykernel_43977/3007967118.py:12: TqdmDeprecationWarning: This function will be removed in tqdm==5.0.0\n",
      "Please use `tqdm.notebook.tqdm` instead of `tqdm.tqdm_notebook`\n",
      "  for f_imp in tqdm_notebook(feature_importances):\n"
     ]
    },
    {
     "data": {
      "application/vnd.jupyter.widget-view+json": {
       "model_id": "afb9095098204113a03a250ec126d028",
       "version_major": 2,
       "version_minor": 0
      },
      "text/plain": [
       "  0%|          | 0/11 [00:00<?, ?it/s]"
      ]
     },
     "metadata": {},
     "output_type": "display_data"
    },
    {
     "name": "stdout",
     "output_type": "stream",
     "text": [
      "For feature importance 1e-05\n",
      "Score - 15088.207\n",
      "\n",
      "For feature importance 0.0001\n",
      "Score - 15286.724\n",
      "\n",
      "For feature importance 0.001\n",
      "Score - 15113.735\n",
      "\n",
      "For feature importance 0.005\n",
      "Score - 16249.432\n",
      "\n",
      "For feature importance 0.01\n",
      "Score - 19796.225\n",
      "\n",
      "For feature importance 0.05\n",
      "Score - 25764.325\n",
      "\n",
      "For feature importance 0.06\n",
      "Score - 26680.537\n",
      "\n",
      "For feature importance 0.07\n",
      "Score - 26617.738\n",
      "\n",
      "For feature importance 0.08\n",
      "Score - 26469.109\n",
      "\n",
      "For feature importance 0.09\n",
      "Score - 27159.355\n",
      "\n",
      "For feature importance 0.1\n",
      "Score - 26242.896\n",
      "\n"
     ]
    }
   ],
   "source": [
    "features_per_target = {}\n",
    "\n",
    "best_score = -np.inf\n",
    "best_features = []\n",
    "\n",
    "rf = RandomForestRegressor(n_estimators=600)\n",
    "\n",
    "rf.fit(df[X_cols], df['SalePrice'])\n",
    "\n",
    "feature_importances = [0.00001, 0.0001, 0.001, 0.005, 0.01, 0.05, 0.06, 0.07, 0.08, 0.09, 0.1]\n",
    "\n",
    "for f_imp in tqdm_notebook(feature_importances):\n",
    "    if np.max(rf.feature_importances_) < f_imp:\n",
    "        continue\n",
    "\n",
    "    new_features = []\n",
    "\n",
    "    for col, val in zip(X_cols, rf.feature_importances_):\n",
    "        if val > f_imp:\n",
    "            new_features.append(col)\n",
    "\n",
    "    scores = []\n",
    "\n",
    "    for i in range(10):\n",
    "\n",
    "        df_train, df_test = train_test_split(df, \n",
    "                                             test_size=0.3, \n",
    "                                             shuffle=True)\n",
    "\n",
    "        cb = CatBoostRegressor(verbose=False)\n",
    "        cb.fit(df_train[new_features], df_train[target])\n",
    "        y_pred_cb = cb.predict(df_test[new_features])\n",
    "        score_cb = mean_absolute_error(df_test[target], y_pred_cb)\n",
    "\n",
    "        scores.append(score_cb)\n",
    "\n",
    "\n",
    "    mean_score = np.mean(scores)\n",
    "    print(f'For feature importance {f_imp}')\n",
    "    print(f'Score - {round(mean_score,3)}')\n",
    "    print()\n",
    "\n",
    "    if mean_score < best_score:\n",
    "        best_score = mean_score\n",
    "        best_features = new_features"
   ]
  },
  {
   "cell_type": "markdown",
   "id": "8f4f7573",
   "metadata": {},
   "source": [
    "Видимо будем использовать все фичи"
   ]
  },
  {
   "cell_type": "markdown",
   "id": "e01f98fa",
   "metadata": {},
   "source": [
    "# Model tuning\n",
    "\n",
    "По заданию мы должны использовать Catboost, поэтому будем тюнить его"
   ]
  },
  {
   "cell_type": "code",
   "execution_count": 39,
   "id": "07dbb553",
   "metadata": {
    "ExecuteTime": {
     "end_time": "2022-10-23T12:33:58.855235Z",
     "start_time": "2022-10-23T12:33:58.845033Z"
    },
    "code_folding": []
   },
   "outputs": [],
   "source": [
    "categorial_cols = ['MSSubClass',\n",
    " 'MSZoning',\n",
    " 'Street',\n",
    " 'Alley',\n",
    " 'LotShape',\n",
    " 'LandContour',\n",
    " 'Utilities',\n",
    " 'LotConfig',\n",
    " 'LandSlope',\n",
    " 'Neighborhood',\n",
    " 'Condition1',\n",
    " 'Condition2',\n",
    " 'BldgType',\n",
    " 'HouseStyle',\n",
    " 'RoofStyle',\n",
    " 'RoofMatl',\n",
    " 'Exterior1st',\n",
    " 'Exterior2nd',\n",
    " 'MasVnrType',\n",
    " 'ExterQual',\n",
    " 'ExterCond',\n",
    " 'Foundation',\n",
    " 'BsmtQual',\n",
    " 'BsmtCond',\n",
    " 'BsmtExposure',\n",
    " 'BsmtFinType1',\n",
    " 'BsmtFinType2',\n",
    " 'Heating',\n",
    " 'HeatingQC',\n",
    " 'CentralAir',\n",
    " 'Electrical',\n",
    " 'KitchenQual',\n",
    " 'Functional',\n",
    " 'FireplaceQu',\n",
    " 'GarageType',\n",
    " 'GarageFinish',\n",
    " 'GarageQual',\n",
    " 'GarageCond',\n",
    " 'PavedDrive',\n",
    " 'PoolQC',\n",
    " 'Fence',\n",
    " 'MiscFeature',\n",
    " 'SaleType',\n",
    " 'SaleCondition']"
   ]
  },
  {
   "cell_type": "code",
   "execution_count": 40,
   "id": "b71b55b8",
   "metadata": {
    "ExecuteTime": {
     "end_time": "2022-10-23T12:52:22.206960Z",
     "start_time": "2022-10-23T12:52:22.185864Z"
    }
   },
   "outputs": [],
   "source": [
    "for col in categorial_cols:\n",
    "    df[col] = df[col].astype(int)"
   ]
  },
  {
   "cell_type": "markdown",
   "id": "3bae0ef7",
   "metadata": {},
   "source": [
    "Поиск по сетке"
   ]
  },
  {
   "cell_type": "code",
   "execution_count": 45,
   "id": "79298e82",
   "metadata": {
    "ExecuteTime": {
     "end_time": "2022-10-23T14:55:02.096948Z",
     "start_time": "2022-10-23T12:56:43.756519Z"
    }
   },
   "outputs": [
    {
     "name": "stderr",
     "output_type": "stream",
     "text": [
      "/Users/vladimirkulichenko/opt/anaconda3/lib/python3.9/site-packages/joblib/externals/loky/process_executor.py:702: UserWarning: A worker stopped while some jobs were given to the executor. This can be caused by a too short worker timeout or by a memory leak.\n",
      "  warnings.warn(\n"
     ]
    },
    {
     "name": "stdout",
     "output_type": "stream",
     "text": [
      "<catboost.core.CatBoostRegressor object at 0x7ff17adfadf0>\n",
      "0.9018822193381107\n",
      "{'l2_leaf_reg': 0.5, 'max_depth': 5, 'min_child_samples': 4, 'n_estimators': 600}\n"
     ]
    }
   ],
   "source": [
    "cbc = CatBoostRegressor(verbose=False, \n",
    "                         cat_features=categorial_cols,\n",
    "                         )\n",
    "\n",
    "#create the grid\n",
    "grid = {'max_depth': [5,6,7,8,9,10],\n",
    "        'n_estimators':[300,400,500,600],\n",
    "        'min_child_samples':[4,8,12,16,20],\n",
    "        'l2_leaf_reg':[0.5,1,5]}\n",
    "\n",
    "#Instantiate GridSearchCV\n",
    "gscv = GridSearchCV(estimator = cbc, param_grid = grid, scoring ='explained_variance', cv = 3, n_jobs=2)\n",
    "\n",
    "#fit the model\n",
    "gscv.fit(df[X_cols], df[target])\n",
    "\n",
    "#returns the estimator with the best performance\n",
    "print(gscv.best_estimator_)\n",
    "\n",
    "#returns the best score\n",
    "print(gscv.best_score_)\n",
    "\n",
    "#returns the best parameters\n",
    "print(gscv.best_params_)"
   ]
  },
  {
   "cell_type": "markdown",
   "id": "1af10ff3",
   "metadata": {},
   "source": [
    "## config"
   ]
  },
  {
   "cell_type": "code",
   "execution_count": null,
   "id": "691646d3",
   "metadata": {},
   "outputs": [],
   "source": [
    "model_params = {'l2_leaf_reg': 0.5, 'max_depth': 5, 'min_child_samples': 4, 'n_estimators': 600}"
   ]
  },
  {
   "cell_type": "code",
   "execution_count": 51,
   "id": "93d6ad71",
   "metadata": {
    "ExecuteTime": {
     "end_time": "2022-10-23T15:18:08.949496Z",
     "start_time": "2022-10-23T15:18:08.927566Z"
    }
   },
   "outputs": [
    {
     "data": {
      "text/plain": [
       "Index(['MSSubClass', 'MSZoning', 'LotFrontage', 'LotArea', 'Street', 'Alley',\n",
       "       'LotShape', 'LandContour', 'Utilities', 'LotConfig', 'LandSlope',\n",
       "       'Neighborhood', 'Condition1', 'Condition2', 'BldgType', 'HouseStyle',\n",
       "       'OverallQual', 'OverallCond', 'YearBuilt', 'YearRemodAdd', 'RoofStyle',\n",
       "       'RoofMatl', 'Exterior1st', 'Exterior2nd', 'MasVnrType', 'MasVnrArea',\n",
       "       'ExterQual', 'ExterCond', 'Foundation', 'BsmtQual', 'BsmtCond',\n",
       "       'BsmtExposure', 'BsmtFinType1', 'BsmtFinSF1', 'BsmtFinType2',\n",
       "       'BsmtFinSF2', 'BsmtUnfSF', 'TotalBsmtSF', 'Heating', 'HeatingQC',\n",
       "       'CentralAir', 'Electrical', '1stFlrSF', '2ndFlrSF', 'LowQualFinSF',\n",
       "       'GrLivArea', 'BsmtFullBath', 'BsmtHalfBath', 'FullBath', 'HalfBath',\n",
       "       'BedroomAbvGr', 'KitchenAbvGr', 'KitchenQual', 'TotRmsAbvGrd',\n",
       "       'Functional', 'Fireplaces', 'FireplaceQu', 'GarageType', 'GarageYrBlt',\n",
       "       'GarageFinish', 'GarageCars', 'GarageArea', 'GarageQual', 'GarageCond',\n",
       "       'PavedDrive', 'WoodDeckSF', 'OpenPorchSF', 'EnclosedPorch', '3SsnPorch',\n",
       "       'ScreenPorch', 'PoolArea', 'PoolQC', 'Fence', 'MiscFeature', 'MiscVal',\n",
       "       'MoSold', 'YrSold', 'SaleType', 'SaleCondition'],\n",
       "      dtype='object')"
      ]
     },
     "execution_count": 51,
     "metadata": {},
     "output_type": "execute_result"
    }
   ],
   "source": [
    "X_cols"
   ]
  },
  {
   "cell_type": "code",
   "execution_count": null,
   "id": "61ca9202",
   "metadata": {},
   "outputs": [],
   "source": []
  },
  {
   "cell_type": "code",
   "execution_count": null,
   "id": "891a9ec3",
   "metadata": {},
   "outputs": [],
   "source": []
  },
  {
   "cell_type": "code",
   "execution_count": null,
   "id": "98d68882",
   "metadata": {},
   "outputs": [],
   "source": []
  },
  {
   "cell_type": "code",
   "execution_count": null,
   "id": "fa77cbc7",
   "metadata": {},
   "outputs": [],
   "source": []
  },
  {
   "cell_type": "code",
   "execution_count": null,
   "id": "a1b0e84f",
   "metadata": {},
   "outputs": [],
   "source": []
  },
  {
   "cell_type": "code",
   "execution_count": null,
   "id": "834315ee",
   "metadata": {},
   "outputs": [],
   "source": []
  },
  {
   "cell_type": "code",
   "execution_count": null,
   "id": "074a5077",
   "metadata": {},
   "outputs": [],
   "source": []
  },
  {
   "cell_type": "code",
   "execution_count": null,
   "id": "ccf196b1",
   "metadata": {},
   "outputs": [],
   "source": []
  },
  {
   "cell_type": "code",
   "execution_count": null,
   "id": "0e32a4ad",
   "metadata": {},
   "outputs": [],
   "source": []
  },
  {
   "cell_type": "code",
   "execution_count": null,
   "id": "8f70d0d8",
   "metadata": {},
   "outputs": [],
   "source": []
  },
  {
   "cell_type": "code",
   "execution_count": null,
   "id": "bf3d6741",
   "metadata": {},
   "outputs": [],
   "source": []
  },
  {
   "cell_type": "code",
   "execution_count": null,
   "id": "89c3ca22",
   "metadata": {},
   "outputs": [],
   "source": []
  },
  {
   "cell_type": "code",
   "execution_count": null,
   "id": "ee693d53",
   "metadata": {},
   "outputs": [],
   "source": []
  }
 ],
 "metadata": {
  "kernelspec": {
   "display_name": "Python 3 (ipykernel)",
   "language": "python",
   "name": "python3"
  },
  "language_info": {
   "codemirror_mode": {
    "name": "ipython",
    "version": 3
   },
   "file_extension": ".py",
   "mimetype": "text/x-python",
   "name": "python",
   "nbconvert_exporter": "python",
   "pygments_lexer": "ipython3",
   "version": "3.9.7"
  },
  "toc": {
   "base_numbering": 1,
   "nav_menu": {},
   "number_sections": true,
   "sideBar": true,
   "skip_h1_title": false,
   "title_cell": "Table of Contents",
   "title_sidebar": "Contents",
   "toc_cell": false,
   "toc_position": {},
   "toc_section_display": true,
   "toc_window_display": false
  }
 },
 "nbformat": 4,
 "nbformat_minor": 5
}
